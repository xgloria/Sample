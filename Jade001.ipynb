{
 "cells": [
  {
   "cell_type": "markdown",
   "id": "85e42a57",
   "metadata": {},
   "source": [
    "## The Journey of Jade001"
   ]
  },
  {
   "cell_type": "code",
   "execution_count": 1,
   "id": "e3bbd627",
   "metadata": {},
   "outputs": [],
   "source": [
    "import folium\n",
    "from folium import IFrame\n",
    "from folium.plugins import MiniMap\n",
    "from folium.plugins import MousePosition\n",
    "import os\n",
    "import base64\n",
    "from PIL import Image\n",
    "import io"
   ]
  },
  {
   "cell_type": "code",
   "execution_count": 2,
   "id": "4936f3f8",
   "metadata": {},
   "outputs": [],
   "source": [
    "# picture size deflator\n",
    "def open_resize(file,deflator):     # file name, divider of the size\n",
    "    imgx = Image.open(file)\n",
    "    imgxsize=list(imgx.size)\n",
    "    imgxr = imgx.resize((int(imgxsize[0]/deflator),int(imgxsize[1]/deflator)))\n",
    "    name = str(file)+'xx'\n",
    "    imgxr.save(name,format = 'PNG')\n",
    "    return base64.b64encode(open(name, 'rb').read()).decode() # input to IFame()"
   ]
  },
  {
   "cell_type": "code",
   "execution_count": 3,
   "id": "cb6c1a16",
   "metadata": {},
   "outputs": [],
   "source": [
    "m = folium.Map(location=[33.87042,97.29492],zoom_start=3.5)"
   ]
  },
  {
   "cell_type": "code",
   "execution_count": 4,
   "id": "c77392ca",
   "metadata": {},
   "outputs": [
    {
     "data": {
      "text/plain": [
       "<folium.plugins.mouse_position.MousePosition at 0x115516100>"
      ]
     },
     "execution_count": 4,
     "metadata": {},
     "output_type": "execute_result"
    }
   ],
   "source": [
    "minimap = MiniMap()\n",
    "m.add_child(minimap)\n",
    "MousePosition().add_to(m)"
   ]
  },
  {
   "cell_type": "code",
   "execution_count": 5,
   "id": "55dddb96",
   "metadata": {},
   "outputs": [
    {
     "data": {
      "text/plain": [
       "<folium.vector_layers.PolyLine at 0x11553aaf0>"
      ]
     },
     "execution_count": 5,
     "metadata": {},
     "output_type": "execute_result"
    }
   ],
   "source": [
    "# map the vector layer for the route\n",
    "loc = [(37.1003720930779, 79.95849609375),\n",
    "          (39.4699062, 75.9801939),\n",
    "          (39.9187347324166, 116.390689015388),\n",
    "          (29.56559, 106.595052),\n",
    "          (24.137758039365817, 120.69219186902045),\n",
    "          (24.073272708151087, 120.7171243429184),\n",
    "          (25.10217956587455, 121.54857158660889)]\n",
    "\n",
    "folium.PolyLine(loc,\n",
    "                    color='darkgreen',\n",
    "                    weight=3,\n",
    "                    opacity=0.8).add_to(m)"
   ]
  },
  {
   "cell_type": "code",
   "execution_count": 6,
   "id": "29a7e122",
   "metadata": {},
   "outputs": [],
   "source": [
    "# load images\n",
    "tooltip = 'Before 1756: Xinjiang'\n",
    "html_1 = '''\n",
    "<b>Jade001 Grayish-green jade bowl 青灰玉碗</b><br><br>\n",
    "Front<br>\n",
    "<img src= \"data:image/png;base64,{}\"><br><br>\n",
    "Bottom<br>\n",
    "<img src= \"data:image/png;base64,{}\"><br><br>\n",
    "Back<br>\n",
    "<img src= \"data:image/png;base64,{}\"><br><br>\n",
    "The Place in Historical Map<br>\n",
    "<img src= \"data:image/png;base64,{}\"><br><br>\n",
    "'''. format"
   ]
  },
  {
   "cell_type": "code",
   "execution_count": 7,
   "id": "9febf005",
   "metadata": {},
   "outputs": [],
   "source": [
    "ppp1 = open_resize('Jade001_Images/Jade001_NPMT_front.jpg',3)\n",
    "ppp2 = open_resize('Jade001_Images/Jade001_NPMT_bottom.jpg',3.5)\n",
    "ppp3 = open_resize('Jade001_Images/Jade001_NPMT_back.jpg',3.8)\n",
    "ppp4 = open_resize('Jade001_Images/Xiyuquantu.jpg',4)"
   ]
  },
  {
   "cell_type": "code",
   "execution_count": 8,
   "id": "54985f62",
   "metadata": {},
   "outputs": [],
   "source": [
    "iframe1 = IFrame(html_1(ppp1,ppp2,ppp3,ppp4), width=350+20, height=400+20)\n",
    "popup1 = folium.Popup(iframe1, max_width=370)\n",
    "icon1= folium.Icon(color=\"darkgreen\")\n",
    "marker1= folium.Marker(location=[39.4699062, 75.9801939], popup=popup1, tooltip=tooltip, icon=icon1).add_to(m)"
   ]
  },
  {
   "cell_type": "code",
   "execution_count": 9,
   "id": "ee65bc41",
   "metadata": {},
   "outputs": [],
   "source": [
    "tooltip2 = 'Start: Hetian'\n",
    "html_2 = '''\n",
    "Hetian<br><br>\n",
    "<img src= \"data:image/png;base64,{}\"><br><br>\n",
    "'''. format"
   ]
  },
  {
   "cell_type": "code",
   "execution_count": 10,
   "id": "51667876",
   "metadata": {},
   "outputs": [],
   "source": [
    "ppp5 = open_resize('Jade001_Images/Tianshannanlu_6_Hetian.jpg', 4)"
   ]
  },
  {
   "cell_type": "code",
   "execution_count": 11,
   "id": "0667c163",
   "metadata": {},
   "outputs": [],
   "source": [
    "iframe2 = IFrame(html_2(ppp5), width=600+20, height=400+20)\n",
    "popup2 = folium.Popup(iframe2, max_width=620)\n",
    "icon2= folium.Icon(color=\"darkgreen\",icon=\"Place\")\n",
    "marker2= folium.Marker(location=[37.1003720930779, 79.95849609375], popup=popup2, tooltip=tooltip2, icon=icon2).add_to(m)"
   ]
  },
  {
   "cell_type": "code",
   "execution_count": 12,
   "id": "3ac228e1",
   "metadata": {},
   "outputs": [],
   "source": [
    "tooltip3 = '1756-1924: The Forbidden City, Beijing'\n",
    "icon3= folium.Icon(color=\"darkgreen\",icon=\"Place\")\n",
    "marker3= folium.Marker(\n",
    "    location=[39.9187347324166, 116.390689015388], \n",
    "    popup=\"<b>Palace of Heavenly Purity</b>\", \n",
    "    tooltip=tooltip3, icon=icon3\n",
    ").add_to(m)"
   ]
  },
  {
   "cell_type": "code",
   "execution_count": 13,
   "id": "2841b224",
   "metadata": {},
   "outputs": [],
   "source": [
    "tooltip4 = '1933-1948: Chongqing'\n",
    "icon4= folium.Icon(color=\"darkgreen\",icon=\"Place\")\n",
    "marker4= folium.Marker(location=[29.56559,106.595052], popup=\"<b>Wartime Storeage</b>\", tooltip=tooltip4, icon=icon4).add_to(m)"
   ]
  },
  {
   "cell_type": "code",
   "execution_count": 14,
   "id": "d27ec6e6",
   "metadata": {},
   "outputs": [],
   "source": [
    "tooltip5 = '1948-1949: Taichung'\n",
    "icon5= folium.Icon(color=\"darkgreen\",icon=\"Place\")\n",
    "marker5= folium.Marker(location=[24.073272708151087, 120.7171243429184], popup=\"<b>Temporary Storage</b>\", tooltip=tooltip5, icon=icon5).add_to(m)"
   ]
  },
  {
   "cell_type": "code",
   "execution_count": 15,
   "id": "3dd90420",
   "metadata": {},
   "outputs": [],
   "source": [
    "tooltip6 = '1950-1965: Taichung'\n",
    "icon6= folium.Icon(color=\"darkgreen\",icon=\"Place\")\n",
    "marker6= folium.Marker(location=[24.137758039365817, 120.69219186902045], popup=\"<b>Shelter Storage</b>\", tooltip=tooltip6, icon=icon6).add_to(m)"
   ]
  },
  {
   "cell_type": "code",
   "execution_count": 16,
   "id": "3f5f6948",
   "metadata": {},
   "outputs": [],
   "source": [
    "tooltip7 = '1965-Now: National Palace Museum, Taipei'\n",
    "icon7= folium.Icon(color=\"darkgreen\",icon=\"Place\")\n",
    "marker7= folium.Marker(location=[25.10217956587455, 121.54857158660889], popup=\"<b>Museum Collection</b>\", tooltip=tooltip7, icon=icon7).add_to(m)"
   ]
  },
  {
   "cell_type": "code",
   "execution_count": 17,
   "id": "644bf85c",
   "metadata": {},
   "outputs": [],
   "source": [
    "# generate the map to html file\n",
    "m. save('Jade001_SampleMap.html')"
   ]
  }
 ],
 "metadata": {
  "kernelspec": {
   "display_name": "Python 3",
   "language": "python",
   "name": "python3"
  },
  "language_info": {
   "codemirror_mode": {
    "name": "ipython",
    "version": 3
   },
   "file_extension": ".py",
   "mimetype": "text/x-python",
   "name": "python",
   "nbconvert_exporter": "python",
   "pygments_lexer": "ipython3",
   "version": "3.8.8"
  }
 },
 "nbformat": 4,
 "nbformat_minor": 5
}
